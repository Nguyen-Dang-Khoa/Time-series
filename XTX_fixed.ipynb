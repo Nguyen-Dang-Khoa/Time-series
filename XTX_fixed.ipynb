{
 "cells": [
  {
   "cell_type": "markdown",
   "metadata": {},
   "source": [
    "# XTX Markets Forecasting Challenge StarterKit"
   ]
  },
  {
   "cell_type": "code",
   "execution_count": 1,
   "metadata": {},
   "outputs": [],
   "source": [
    "import numpy as np\n",
    "import pandas as pd"
   ]
  },
  {
   "cell_type": "markdown",
   "metadata": {},
   "source": [
    "## Load data and replace the NAN value by $0.$"
   ]
  },
  {
   "cell_type": "code",
   "execution_count": 2,
   "metadata": {},
   "outputs": [],
   "source": [
    "data=pd.read_csv('data-training.csv')\n",
    "data=data.fillna(0.)"
   ]
  },
  {
   "cell_type": "markdown",
   "metadata": {},
   "source": [
    "## Convert the data to a numpy array"
   ]
  },
  {
   "cell_type": "code",
   "execution_count": 3,
   "metadata": {},
   "outputs": [
    {
     "data": {
      "text/plain": [
       "array([[ 1.6195e+03,  1.6200e+03,  1.6210e+03, ...,  1.0000e+01,\n",
       "         1.3000e+01, -5.0000e-01],\n",
       "       [ 1.6195e+03,  1.6200e+03,  1.6210e+03, ...,  1.0000e+01,\n",
       "         1.3000e+01, -5.0000e-01],\n",
       "       [ 1.6195e+03,  1.6200e+03,  1.6210e+03, ...,  1.0000e+01,\n",
       "         1.3000e+01, -5.0000e-01],\n",
       "       ...,\n",
       "       [ 1.5835e+03,  1.5840e+03,  1.5845e+03, ...,  2.6000e+01,\n",
       "         3.0000e+00,  5.0000e-01],\n",
       "       [ 1.5835e+03,  1.5840e+03,  1.5845e+03, ...,  2.6000e+01,\n",
       "         3.0000e+00,  5.0000e-01],\n",
       "       [ 1.5835e+03,  1.5840e+03,  1.5845e+03, ...,  2.6000e+01,\n",
       "         3.0000e+00,  5.0000e-01]])"
      ]
     },
     "execution_count": 3,
     "metadata": {},
     "output_type": "execute_result"
    }
   ],
   "source": [
    "float_data=data.to_numpy()\n",
    "float_data"
   ]
  },
  {
   "cell_type": "code",
   "execution_count": 4,
   "metadata": {},
   "outputs": [
    {
     "data": {
      "text/plain": [
       "(2999999, 61)"
      ]
     },
     "execution_count": 4,
     "metadata": {},
     "output_type": "execute_result"
    }
   ],
   "source": [
    "float_data.shape"
   ]
  },
  {
   "cell_type": "markdown",
   "metadata": {},
   "source": [
    "## Create a standardized data set "
   ]
  },
  {
   "cell_type": "code",
   "execution_count": 5,
   "metadata": {},
   "outputs": [
    {
     "data": {
      "text/plain": [
       "array([[-0.98129515, -0.96359964, -0.92665422, ..., -0.18778118,\n",
       "        -0.09869812, -0.6847494 ],\n",
       "       [-0.98129515, -0.96359964, -0.92665422, ..., -0.18778118,\n",
       "        -0.09869812, -0.6847494 ],\n",
       "       [-0.98129515, -0.96359964, -0.92665422, ..., -0.18778118,\n",
       "        -0.09869812, -0.6847494 ],\n",
       "       ...,\n",
       "       [-2.36272178, -2.32047671, -2.27669524, ...,  0.47796262,\n",
       "        -0.4906599 ,  0.67960295],\n",
       "       [-2.36272178, -2.32047671, -2.27669524, ...,  0.47796262,\n",
       "        -0.4906599 ,  0.67960295],\n",
       "       [-2.36272178, -2.32047671, -2.27669524, ...,  0.47796262,\n",
       "        -0.4906599 ,  0.67960295]])"
      ]
     },
     "execution_count": 5,
     "metadata": {},
     "output_type": "execute_result"
    }
   ],
   "source": [
    "train_rate = 0.8\n",
    "nb_train = int(len(data)*train_rate)\n",
    "mean = float_data[:nb_train].mean(axis=0)\n",
    "float_data -= mean\n",
    "std = float_data[:nb_train].std(axis=0)\n",
    "float_data /= std\n",
    "float_data"
   ]
  },
  {
   "cell_type": "markdown",
   "metadata": {},
   "source": [
    "## Generating function on lookback and delay; yielding timeseries samples and their targets"
   ]
  },
  {
   "cell_type": "code",
   "execution_count": 6,
   "metadata": {},
   "outputs": [],
   "source": [
    "def generator(data, \n",
    "              lookback, ## Observations will go back some days, e.g 5 days = 720 lookback.\n",
    "              delay,   ## Targets will be 24 hours in the future\n",
    "              min_index, \n",
    "              max_index, \n",
    "              shuffle = False, \n",
    "              batch_size = 128, ## The number of samples per batch; default = 128\n",
    "              step = 6  ## Observations will be sampled at one data point per hour (10 mins/ timestep).\n",
    "             ):\n",
    "    if max_index is None:\n",
    "        max_index = len(data) - delay - 1\n",
    "    i = min_index + lookback\n",
    "    while 1:\n",
    "        if shuffle:\n",
    "            rows = np.random.randint(min_index + lookback, max_index, size=batch_size)\n",
    "        else:\n",
    "            if i + batch_size >= max_index:\n",
    "                i = min_index + lookback\n",
    "            rows = np.arange(i, min(i + batch_size, max_index))\n",
    "            i += len(rows)\n",
    "        samples = np.zeros(( len(rows), lookback // step, data.shape[-1]-1))\n",
    "        targets = np.zeros((len(rows), ))\n",
    "        for j, row in enumerate(rows):\n",
    "            indices = range(rows[j] - lookback, rows[j], step)\n",
    "            samples[j] = data[indices,:60]\n",
    "            targets[j] = data[rows[j] + delay][1]\n",
    "        yield samples, targets"
   ]
  },
  {
   "cell_type": "code",
   "execution_count": 7,
   "metadata": {},
   "outputs": [],
   "source": [
    "nb_vld = int(len(data) * 0.001)\n",
    "lookback, step, delay, batch_size =  100, 2, 1, 128\n",
    "\n",
    "## Train generator\n",
    "train_gen = generator(float_data,\n",
    "                        lookback=lookback,\n",
    "                        delay=delay,\n",
    "                        min_index=0,\n",
    "                        max_index = nb_train,\n",
    "                        shuffle=True,\n",
    "                        step=step,\n",
    "                        batch_size=batch_size)\n",
    "## Validation generator\n",
    "val_gen = generator(float_data,\n",
    "                        lookback=lookback,\n",
    "                        delay = delay,\n",
    "                        min_index = nb_train + 1,\n",
    "                        max_index = nb_train + nb_vld,\n",
    "                        step=step,\n",
    "                        batch_size=batch_size)\n",
    "## Test generator\n",
    "test_gen = generator(float_data,\n",
    "                        lookback=lookback,\n",
    "                        delay=delay,\n",
    "                        min_index = nb_train + nb_vld + 1,\n",
    "                        max_index=None,\n",
    "                        step=step,\n",
    "                        batch_size=batch_size)"
   ]
  },
  {
   "cell_type": "code",
   "execution_count": 8,
   "metadata": {},
   "outputs": [
    {
     "data": {
      "text/plain": [
       "(2898, 596900)"
      ]
     },
     "execution_count": 8,
     "metadata": {},
     "output_type": "execute_result"
    }
   ],
   "source": [
    "val_steps = (nb_vld - 1 - lookback) ## i.e.: (nb_vld + nb_train) - (nb_train + 1) - lookback\n",
    "test_steps = (len(float_data) - (nb_train + nb_vld + 1) - lookback)\n",
    "val_steps, test_steps"
   ]
  },
  {
   "cell_type": "markdown",
   "metadata": {},
   "source": [
    "## Create an RNN model"
   ]
  },
  {
   "cell_type": "code",
   "execution_count": 9,
   "metadata": {},
   "outputs": [
    {
     "name": "stderr",
     "output_type": "stream",
     "text": [
      "Using TensorFlow backend.\n"
     ]
    },
    {
     "name": "stdout",
     "output_type": "stream",
     "text": [
      "Model: \"sequential_1\"\n",
      "_________________________________________________________________\n",
      "Layer (type)                 Output Shape              Param #   \n",
      "=================================================================\n",
      "gru_1 (GRU)                  (None, 32)                8928      \n",
      "_________________________________________________________________\n",
      "dense_1 (Dense)              (None, 1)                 33        \n",
      "=================================================================\n",
      "Total params: 8,961\n",
      "Trainable params: 8,961\n",
      "Non-trainable params: 0\n",
      "_________________________________________________________________\n",
      "None\n"
     ]
    }
   ],
   "source": [
    "from keras.models import Sequential\n",
    "from keras import layers\n",
    "from keras.optimizers import RMSprop\n",
    "model = Sequential()\n",
    "model.add(layers.GRU(32, input_shape=(None, float_data.shape[-1]-1)))\n",
    "model.add(layers.Dense(1))\n",
    "print(model.summary())"
   ]
  },
  {
   "cell_type": "markdown",
   "metadata": {},
   "source": [
    "## Training the model using RMSprop optimizer"
   ]
  },
  {
   "cell_type": "code",
   "execution_count": 10,
   "metadata": {},
   "outputs": [
    {
     "name": "stdout",
     "output_type": "stream",
     "text": [
      "Epoch 1/20\n",
      "500/500 [==============================] - 164s 328ms/step - loss: 0.0983 - val_loss: 0.0382\n",
      "Epoch 2/20\n",
      "500/500 [==============================] - 177s 353ms/step - loss: 0.0480 - val_loss: 0.0065\n",
      "Epoch 3/20\n",
      "500/500 [==============================] - 227s 453ms/step - loss: 0.0370 - val_loss: 0.0273\n",
      "Epoch 4/20\n",
      "500/500 [==============================] - 204s 408ms/step - loss: 0.0321 - val_loss: 0.0216\n",
      "Epoch 5/20\n",
      "500/500 [==============================] - 146s 293ms/step - loss: 0.0267 - val_loss: 0.0157\n",
      "Epoch 6/20\n",
      "500/500 [==============================] - 147s 294ms/step - loss: 0.0243 - val_loss: 0.0140\n",
      "Epoch 7/20\n",
      "500/500 [==============================] - 148s 297ms/step - loss: 0.0234 - val_loss: 0.0288\n",
      "Epoch 8/20\n",
      "500/500 [==============================] - 148s 295ms/step - loss: 0.0209 - val_loss: 0.0168\n",
      "Epoch 9/20\n",
      "500/500 [==============================] - 157s 314ms/step - loss: 0.0197 - val_loss: 0.0193\n",
      "Epoch 10/20\n",
      "500/500 [==============================] - 156s 312ms/step - loss: 0.0207 - val_loss: 0.0156\n",
      "Epoch 11/20\n",
      "500/500 [==============================] - 186s 372ms/step - loss: 0.0178 - val_loss: 0.0077\n",
      "Epoch 12/20\n",
      "500/500 [==============================] - 153s 307ms/step - loss: 0.0184 - val_loss: 0.0116\n",
      "Epoch 13/20\n",
      "500/500 [==============================] - 157s 314ms/step - loss: 0.0179 - val_loss: 0.0039\n",
      "Epoch 14/20\n",
      "500/500 [==============================] - 150s 301ms/step - loss: 0.0164 - val_loss: 0.0089\n",
      "Epoch 15/20\n",
      "500/500 [==============================] - 151s 302ms/step - loss: 0.0169 - val_loss: 0.0119\n",
      "Epoch 16/20\n",
      "500/500 [==============================] - 143s 285ms/step - loss: 0.0175 - val_loss: 0.0123\n",
      "Epoch 17/20\n",
      "500/500 [==============================] - 148s 296ms/step - loss: 0.0164 - val_loss: 0.0154\n",
      "Epoch 18/20\n",
      "500/500 [==============================] - 151s 301ms/step - loss: 0.0149 - val_loss: 0.0080\n",
      "Epoch 19/20\n",
      "500/500 [==============================] - 151s 301ms/step - loss: 0.0157 - val_loss: 0.0105\n",
      "Epoch 20/20\n",
      "500/500 [==============================] - 148s 296ms/step - loss: 0.0144 - val_loss: 0.0143\n"
     ]
    }
   ],
   "source": [
    "model.compile(optimizer=RMSprop(), loss='mae')\n",
    "history = model.fit_generator(train_gen,\n",
    "                              steps_per_epoch=500,\n",
    "                              epochs=20,\n",
    "                              validation_data=val_gen,\n",
    "                              validation_steps=val_steps)"
   ]
  },
  {
   "cell_type": "markdown",
   "metadata": {},
   "source": [
    "## Plotting the traing loss and valiation loss"
   ]
  },
  {
   "cell_type": "code",
   "execution_count": 13,
   "metadata": {},
   "outputs": [
    {
     "data": {
      "image/png": "[encoded data removed]",
      "text/plain": [
       "<Figure size 432x288 with 1 Axes>"
      ]
     },
     "metadata": {
      "needs_background": "light"
     },
     "output_type": "display_data"
    }
   ],
   "source": [
    "import matplotlib.pyplot as plt\n",
    "loss = history.history['loss']\n",
    "val_loss = history.history['val_loss']\n",
    "epochs = range(1, len(loss) + 1)\n",
    "plt.figure()\n",
    "plt.plot(epochs, loss, 'bo', label='Training loss')\n",
    "plt.plot(epochs, val_loss, 'b', label='Validation loss')\n",
    "plt.title('Training and validation loss')\n",
    "plt.legend()\n",
    "plt.show()"
   ]
  },
  {
   "cell_type": "markdown",
   "metadata": {},
   "source": [
    "##  Saving a model"
   ]
  },
  {
   "cell_type": "raw",
   "metadata": {},
   "source": [
    "===============================================================================================================================\n",
    "                        ## Measure the time spent during the last training\n",
    "==============================================================================================================================="
   ]
  },
  {
   "cell_type": "code",
   "execution_count": 14,
   "metadata": {},
   "outputs": [
    {
     "ename": "NameError",
     "evalue": "name 'X_train' is not defined",
     "output_type": "error",
     "traceback": [
      "\u001b[0;31m---------------------------------------------------------------------------\u001b[0m",
      "\u001b[0;31mNameError\u001b[0m                                 Traceback (most recent call last)",
      "\u001b[0;32m<ipython-input-14-99e6b3c4ecd9>\u001b[0m in \u001b[0;36m<module>\u001b[0;34m\u001b[0m\n\u001b[1;32m      1\u001b[0m \u001b[0;32mimport\u001b[0m \u001b[0mtime\u001b[0m\u001b[0;34m\u001b[0m\u001b[0;34m\u001b[0m\u001b[0m\n\u001b[1;32m      2\u001b[0m \u001b[0mstart_time\u001b[0m \u001b[0;34m=\u001b[0m \u001b[0mtime\u001b[0m\u001b[0;34m.\u001b[0m\u001b[0mtime\u001b[0m\u001b[0;34m(\u001b[0m\u001b[0;34m)\u001b[0m\u001b[0;34m\u001b[0m\u001b[0;34m\u001b[0m\u001b[0m\n\u001b[0;32m----> 3\u001b[0;31m model.fit(x=X_train,\n\u001b[0m\u001b[1;32m      4\u001b[0m           \u001b[0my\u001b[0m\u001b[0;34m=\u001b[0m\u001b[0my_train\u001b[0m\u001b[0;34m,\u001b[0m\u001b[0;34m\u001b[0m\u001b[0;34m\u001b[0m\u001b[0m\n\u001b[1;32m      5\u001b[0m           \u001b[0mbatch_size\u001b[0m\u001b[0;34m=\u001b[0m\u001b[0mbatch_size\u001b[0m\u001b[0;34m,\u001b[0m\u001b[0;34m\u001b[0m\u001b[0;34m\u001b[0m\u001b[0m\n",
      "\u001b[0;31mNameError\u001b[0m: name 'X_train' is not defined"
     ]
    }
   ],
   "source": [
    "import time \n",
    "start_time = time.time()\n",
    "model.fit(x=X_train,\n",
    "          y=y_train,\n",
    "          batch_size=batch_size,\n",
    "          epochs=epochs,\n",
    "          validation_split=0.05)\n",
    "\n",
    "end_time = time.time()\n",
    "\n",
    "processing_time = end_time - start_time"
   ]
  },
  {
   "cell_type": "raw",
   "metadata": {},
   "source": [
    "===============================================================================================================================                                ## Saving the last model - trained; named 'mygroup.h5'\n",
    "==============================================================================================================================="
   ]
  },
  {
   "cell_type": "code",
   "execution_count": null,
   "metadata": {},
   "outputs": [],
   "source": [
    "model.save('mygroup.h5')"
   ]
  },
  {
   "cell_type": "markdown",
   "metadata": {},
   "source": [
    "## Load model & predict (for 3rd party)"
   ]
  },
  {
   "cell_type": "code",
   "execution_count": null,
   "metadata": {},
   "outputs": [],
   "source": [
    "from keras.models import load_model\n",
    "model = load_model('mygroup.h5')\n",
    "preds = model.predict(float_data[34,:60].reshape(1,1,60))\n",
    "preds"
   ]
  },
  {
   "cell_type": "raw",
   "metadata": {},
   "source": [
    "===============================================================================================================================\n",
    "        ## Trong đó, X_test là dữ liệu 10% còn lại trong data để dự đoán (sau khi đã thực hiện tách training-testing_set)\n",
    "==============================================================================================================================="
   ]
  },
  {
   "cell_type": "code",
   "execution_count": null,
   "metadata": {},
   "outputs": [],
   "source": []
  }
 ],
 "metadata": {
  "kernelspec": {
   "display_name": "Python 3",
   "language": "python",
   "name": "python3"
  },
  "language_info": {
   "codemirror_mode": {
    "name": "ipython",
    "version": 3
   },
   "file_extension": ".py",
   "mimetype": "text/x-python",
   "name": "python",
   "nbconvert_exporter": "python",
   "pygments_lexer": "ipython3",
   "version": "3.7.4"
  }
 },
 "nbformat": 4,
 "nbformat_minor": 2
}
